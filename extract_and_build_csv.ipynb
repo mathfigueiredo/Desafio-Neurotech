{
 "cells": [
  {
   "cell_type": "code",
   "execution_count": null,
   "id": "3d277d9b",
   "metadata": {},
   "outputs": [],
   "source": [
    "# Nota: todas as tabelas foram obtidas por meio do seguinte comando no terminal:\n",
    "# wget -r -np -nH --cut-dirs=3 -A *.zip http://ftp.dadosabertos.ans.gov.br/FTP/PDA/TISS/HOSPITALAR/2019/"
   ]
  },
  {
   "cell_type": "code",
   "execution_count": 1,
   "id": "edd8d8a9",
   "metadata": {},
   "outputs": [],
   "source": [
    "import os\n",
    "import re\n",
    "import zipfile\n",
    "import pandas as pd\n",
    "import numpy as np\n",
    "from IPython.display import clear_output"
   ]
  },
  {
   "cell_type": "code",
   "execution_count": 5,
   "id": "b488c46e",
   "metadata": {},
   "outputs": [],
   "source": [
    "def extract_csv_from_zip(year):\n",
    "#     directory_path = f'C:\\\\Users\\\\user\\\\Data Projects\\\\HOSPITALAR\\\\{year}'\n",
    "\n",
    "    if not os.path.isdir('csv'):\n",
    "        os.mkdir('csv')\n",
    "        os.mkdir('csv/cons')\n",
    "        os.mkdir('csv/det')\n",
    "        \n",
    "    directory_path = f'./HOSPITALAR/{year}'\n",
    "    directory = os.fsencode(directory_path)\n",
    "    for i, folder in enumerate(os.listdir(directory)):\n",
    "        state = os.fsdecode(folder)\n",
    "        state_folder_path = f'{directory_path}\\\\{state}'\n",
    "        \n",
    "        df_cons = pd.DataFrame()\n",
    "        df_det = pd.DataFrame()\n",
    "\n",
    "        for zip_file in os.listdir(state_folder_path):\n",
    "            if '_CONS' in zip_file:\n",
    "                if len(df_cons) != 0:\n",
    "                    df_cons = df_cons.append(pd.read_csv(f'{directory_path}/{state}/{zip_file}', sep=';'), ignore_index=True)\n",
    "                else:\n",
    "                    df_cons = pd.read_csv(f'{directory_path}/{state}/{zip_file}', sep=';')\n",
    "            elif '_DET' in zip_file:\n",
    "                if len(df_det) != 0:\n",
    "                    df_det = df_det.append(pd.read_csv(f'{directory_path}/{state}/{zip_file}', sep=';'), ignore_index=True)\n",
    "                else:\n",
    "                    df_det = pd.read_csv(f'{directory_path}/{state}/{zip_file}', sep=';')\n",
    "\n",
    "        df_cons.to_csv(f'./csv/cons/{state}{year}_CONS.csv', index=False)\n",
    "        df_det.to_csv(f'./csv/det/{state}{year}_DET.csv', index=False)\n",
    "            \n",
    "        clear_output(wait=True)\n",
    "        print(f'Progress: {int(100*(i+1)/len(os.listdir(directory)))}%')"
   ]
  },
  {
   "cell_type": "code",
   "execution_count": 6,
   "id": "da0ff6f6",
   "metadata": {},
   "outputs": [
    {
     "name": "stdout",
     "output_type": "stream",
     "text": [
      "Progress: 100%\n"
     ]
    }
   ],
   "source": [
    "extract_csv_from_zip(year=2019)"
   ]
  }
 ],
 "metadata": {
  "kernelspec": {
   "display_name": "Python 3 (ipykernel)",
   "language": "python",
   "name": "python3"
  },
  "language_info": {
   "codemirror_mode": {
    "name": "ipython",
    "version": 3
   },
   "file_extension": ".py",
   "mimetype": "text/x-python",
   "name": "python",
   "nbconvert_exporter": "python",
   "pygments_lexer": "ipython3",
   "version": "3.9.7"
  }
 },
 "nbformat": 4,
 "nbformat_minor": 5
}
